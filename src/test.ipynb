{
 "cells": [
  {
   "cell_type": "code",
   "execution_count": 8,
   "metadata": {},
   "outputs": [],
   "source": [
    "from quTARANG.univ.params import Params\n",
    "from quTARANG import gpe\n",
    "import numpy as xp\n",
    "from quTARANG.univ import vortices"
   ]
  },
  {
   "cell_type": "code",
   "execution_count": 9,
   "metadata": {},
   "outputs": [],
   "source": [
    "# from gpe.set_device import xp\n",
    "\n",
    "N = [256, 256, 1]\n",
    "L = [16, 16, 1]\n",
    "\n",
    "par = Params(N, L, g = 2, dt=0.0001, tmax = 0.0002)\n",
    "G = gpe.GPE(par)\n",
    "\n"
   ]
  },
  {
   "cell_type": "code",
   "execution_count": 16,
   "metadata": {},
   "outputs": [
    {
     "name": "stdout",
     "output_type": "stream",
     "text": [
      "Attempting to find 10 positions...\n",
      "Successfully found 10 positions in 10 iterations!\n"
     ]
    }
   ],
   "source": [
    "import matplotlib.pyplot as plt\n",
    "phi = vortices.vortex_phase_profile(G, 10, 2)"
   ]
  },
  {
   "cell_type": "code",
   "execution_count": 17,
   "metadata": {},
   "outputs": [
    {
     "data": {
      "text/plain": [
       "<matplotlib.image.AxesImage at 0x7f27730844f0>"
      ]
     },
     "execution_count": 17,
     "metadata": {},
     "output_type": "execute_result"
    },
    {
     "data": {
      "image/png": "[encoded data removed]",
      "text/plain": [
       "<Figure size 432x288 with 1 Axes>"
      ]
     },
     "metadata": {
      "needs_background": "light"
     },
     "output_type": "display_data"
    }
   ],
   "source": [
    "plt.imshow(phi)\n"
   ]
  },
  {
   "cell_type": "code",
   "execution_count": 18,
   "metadata": {},
   "outputs": [],
   "source": [
    "G.wfc = 4*xp.exp(1j*phi)\n",
    "G.pot = 0"
   ]
  },
  {
   "cell_type": "code",
   "execution_count": 19,
   "metadata": {},
   "outputs": [
    {
     "data": {
      "text/plain": [
       "<matplotlib.colorbar.Colorbar at 0x7f277300d1c0>"
      ]
     },
     "execution_count": 19,
     "metadata": {},
     "output_type": "execute_result"
    },
    {
     "data": {
      "image/png": "[encoded data removed]",
      "text/plain": [
       "<Figure size 432x288 with 2 Axes>"
      ]
     },
     "metadata": {
      "needs_background": "light"
     },
     "output_type": "display_data"
    }
   ],
   "source": [
    "plt.imshow(xp.abs(G.wfc)**2)\n",
    "plt.colorbar()"
   ]
  },
  {
   "cell_type": "code",
   "execution_count": 20,
   "metadata": {},
   "outputs": [
    {
     "name": "stdout",
     "output_type": "stream",
     "text": [
      "Parameters:\n",
      "  dim : 2\n",
      "  (Nx, Ny, Nz): (256, 256, 1)\n",
      "  (Lx, Ly, Lz): (16, 16, 1)\n",
      "  Volume : 256\n",
      "  g : 2\n",
      "  dt: 0.0001\n",
      "  tmax: 0.0002\n",
      "  Numerical Scheme: TSSP\n",
      "  Imaginary Time: False\n"
     ]
    },
    {
     "ename": "NameError",
     "evalue": "name 'wfc' is not defined",
     "output_type": "error",
     "traceback": [
      "\u001b[0;31m---------------------------------------------------------------------------\u001b[0m",
      "\u001b[0;31mNameError\u001b[0m                                 Traceback (most recent call last)",
      "\u001b[1;32m/home/sachinr/Desktop/quTARANGgit/src/test.ipynb Cell 7\u001b[0m in \u001b[0;36m<cell line: 11>\u001b[0;34m()\u001b[0m\n\u001b[1;32m      <a href='vscode-notebook-cell:/home/sachinr/Desktop/quTARANGgit/src/test.ipynb#W3sZmlsZQ%3D%3D?line=0'>1</a>\u001b[0m \u001b[39m## define the functional form of the initial wavefunction and potential\u001b[39;00m\n\u001b[1;32m      <a href='vscode-notebook-cell:/home/sachinr/Desktop/quTARANGgit/src/test.ipynb#W3sZmlsZQ%3D%3D?line=1'>2</a>\u001b[0m \u001b[39m# def wfc(x, y=0, z=0):\u001b[39;00m\n\u001b[1;32m      <a href='vscode-notebook-cell:/home/sachinr/Desktop/quTARANGgit/src/test.ipynb#W3sZmlsZQ%3D%3D?line=2'>3</a>\u001b[0m \u001b[39m#     eps1 = 0.25\u001b[39;00m\n\u001b[0;32m   (...)\u001b[0m\n\u001b[1;32m      <a href='vscode-notebook-cell:/home/sachinr/Desktop/quTARANGgit/src/test.ipynb#W3sZmlsZQ%3D%3D?line=6'>7</a>\u001b[0m \u001b[39m# def pot(x, y=0, z=0):\u001b[39;00m\n\u001b[1;32m      <a href='vscode-notebook-cell:/home/sachinr/Desktop/quTARANGgit/src/test.ipynb#W3sZmlsZQ%3D%3D?line=7'>8</a>\u001b[0m \u001b[39m#     return 0.5*(x**2 + 4*y**2 + 16*z**2)\u001b[39;00m\n\u001b[1;32m     <a href='vscode-notebook-cell:/home/sachinr/Desktop/quTARANGgit/src/test.ipynb#W3sZmlsZQ%3D%3D?line=9'>10</a>\u001b[0m \u001b[39mprint\u001b[39m(par)\n\u001b[0;32m---> <a href='vscode-notebook-cell:/home/sachinr/Desktop/quTARANGgit/src/test.ipynb#W3sZmlsZQ%3D%3D?line=10'>11</a>\u001b[0m G\u001b[39m.\u001b[39mset_init(wfc, pot)\n\u001b[1;32m     <a href='vscode-notebook-cell:/home/sachinr/Desktop/quTARANGgit/src/test.ipynb#W3sZmlsZQ%3D%3D?line=11'>12</a>\u001b[0m \u001b[39mprint\u001b[39m(\u001b[39mtype\u001b[39m(G\u001b[39m.\u001b[39mwfc))\n",
      "\u001b[0;31mNameError\u001b[0m: name 'wfc' is not defined"
     ]
    }
   ],
   "source": [
    "\n",
    "\n",
    "## define the functional form of the initial wavefunction and potential\n",
    "# def wfc(x, y=0, z=0):\n",
    "#     eps1 = 0.25\n",
    "#     const = 8**0.25/(xp.pi * eps1)**(3/4)\n",
    "#     return const * xp.exp(-(x**2 + 2*y**2 + 4*z**2)/(2*eps1))\n",
    "    \n",
    "# def pot(x, y=0, z=0):\n",
    "#     return 0.5*(x**2 + 4*y**2 + 16*z**2)\n",
    "\n",
    "print(par)\n",
    "G.set_init(wfc, pot)\n",
    "print(type(G.wfc))\n",
    "\n",
    "# G.evolve()\n",
    "# xp.random.seed(0)\n",
    "\n",
    "# for i in range(1):\n",
    "    \n",
    "#     comp, incomp = G.KE_decomp()\n",
    "#     print(G.compute_energy())\n",
    "#     print(G.compute_kinetic_energy(), G.compute_quantum_energy(), G.compute_internal_energy())\n",
    "#     print(comp, incomp)    \n",
    "#     print('\\n\\n\\n')\n",
    "#     G.evolve_ms()\n",
    "# print(type(G.wfc), G.wfc.shape)\n",
    "\n",
    "# f = hp.f = hp.File(par.path/'rms.hdf5', 'r')\n",
    "# xrms = xp.array(f['xrms'])\n",
    "# t = xp.array(f['t'])\n",
    "# f.close()"
   ]
  }
 ],
 "metadata": {
  "kernelspec": {
   "display_name": "Python 3.9.12 ('base')",
   "language": "python",
   "name": "python3"
  },
  "language_info": {
   "codemirror_mode": {
    "name": "ipython",
    "version": 3
   },
   "file_extension": ".py",
   "mimetype": "text/x-python",
   "name": "python",
   "nbconvert_exporter": "python",
   "pygments_lexer": "ipython3",
   "version": "3.9.12"
  },
  "orig_nbformat": 4,
  "vscode": {
   "interpreter": {
    "hash": "f0616741ba936ad75ba9bec96571f6ea2c4228aac998e6945cf6799ce5d5aa9a"
   }
  }
 },
 "nbformat": 4,
 "nbformat_minor": 2
}
